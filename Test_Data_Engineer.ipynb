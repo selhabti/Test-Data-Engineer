{
  "nbformat": 4,
  "nbformat_minor": 0,
  "metadata": {
    "colab": {
      "name": "Test Data Engineer.ipynb",
      "private_outputs": true,
      "provenance": [],
      "collapsed_sections": [],
      "mount_file_id": "1OqFfxCuX8phOsqzfLcKTpIYDx-ivphHc",
      "authorship_tag": "ABX9TyNGeLdAo/TD7+tZwDjQsIpv",
      "include_colab_link": true
    },
    "kernelspec": {
      "name": "python3",
      "display_name": "Python 3"
    },
    "language_info": {
      "name": "python"
    },
    "gpuClass": "standard"
  },
  "cells": [
    {
      "cell_type": "markdown",
      "metadata": {
        "id": "view-in-github",
        "colab_type": "text"
      },
      "source": [
        "<a href=\"https://colab.research.google.com/github/selhabti/Test-Data-Engineer/blob/main/Test_Data_Engineer.ipynb\" target=\"_parent\"><img src=\"https://colab.research.google.com/assets/colab-badge.svg\" alt=\"Open In Colab\"/></a>"
      ]
    },
    {
      "cell_type": "code",
      "execution_count": null,
      "metadata": {
        "id": "eI2HqL8-iG01"
      },
      "outputs": [],
      "source": [
        "#Importing the required modules\n",
        "import pandas as pd\n",
        "from geopy.geocoders import Nominatim\n",
        "import warnings\n",
        "warnings.filterwarnings(\"ignore\")\n",
        "pd.set_option('display.float_format','{:.7f}'.format)\n",
        "#Creating an instance of Nominatim Class\n",
        "geolocator = Nominatim(user_agent=\"TestDataEngineer\")\n",
        "\n",
        "# Importing the csv file\n",
        "df_address = pd.read_csv(\"https://raw.githubusercontent.com/selhabti/Test-Data-Engineer/main/Adress.csv\")"
      ]
    },
    {
      "cell_type": "markdown",
      "source": [
        "# Explorating the dataframe:\n",
        "<hr>"
      ],
      "metadata": {
        "id": "LlJ7x7iNAXp5"
      }
    },
    {
      "cell_type": "code",
      "source": [
        "df_address"
      ],
      "metadata": {
        "id": "Kf3d0WRPiwoN"
      },
      "execution_count": null,
      "outputs": []
    },
    {
      "cell_type": "code",
      "source": [
        "df_address.isnull().sum().sum()"
      ],
      "metadata": {
        "id": "jlaaE4PKAqh_"
      },
      "execution_count": null,
      "outputs": []
    },
    {
      "cell_type": "markdown",
      "source": [
        "Add a new column with the complete addresses:"
      ],
      "metadata": {
        "id": "ZmhggV1xBDj6"
      }
    },
    {
      "cell_type": "code",
      "source": [
        "df_address['address_comp'] = df_address[['address', 'city']].agg(', '.join, axis=1)\n",
        "df_address.head()"
      ],
      "metadata": {
        "id": "PM8OGSwgnCl9"
      },
      "execution_count": null,
      "outputs": []
    },
    {
      "cell_type": "markdown",
      "source": [
        "Apply the $Geocode$ function to obtain the longitude and latitude:"
      ],
      "metadata": {
        "id": "dmF9hZ57CieU"
      }
    },
    {
      "cell_type": "code",
      "source": [
        "df_address['location'] = df_address['address_comp'].apply(lambda x: geolocator.geocode(x,timeout=10000))\n",
        "df_address['Lat'] = df_address['location'].apply(lambda x: x.latitude if x else None)\n",
        "df_address['Lon'] = df_address['location'].apply(lambda x: x.longitude if x else None)\n",
        "df_address.head()"
      ],
      "metadata": {
        "id": "R44ySEx4j8ab"
      },
      "execution_count": null,
      "outputs": []
    },
    {
      "cell_type": "markdown",
      "source": [
        "Handling NAN values:"
      ],
      "metadata": {
        "id": "gYTKqytHDcOv"
      }
    },
    {
      "cell_type": "code",
      "source": [
        "df_address.isnull().sum()"
      ],
      "metadata": {
        "id": "tWjGSXHlmSdE"
      },
      "execution_count": null,
      "outputs": []
    },
    {
      "cell_type": "code",
      "source": [
        "df_NAN = df_address[df_address['location'].isnull()]\n",
        "df_NAN.head()"
      ],
      "metadata": {
        "id": "AzbTJe5iocce"
      },
      "execution_count": null,
      "outputs": []
    },
    {
      "cell_type": "code",
      "source": [
        "df_NAN['location'] = df_NAN['city'].apply(lambda x: geolocator.geocode(x,timeout=10000))\n",
        "df_NAN['Lat'] = df_NAN['location'].apply(lambda x: x.latitude if x else None)\n",
        "df_NAN['Lon'] = df_NAN['location'].apply(lambda x: x.longitude if x else None)\n",
        "df_NAN.head()"
      ],
      "metadata": {
        "id": "EkTJLqSwy9F7"
      },
      "execution_count": null,
      "outputs": []
    },
    {
      "cell_type": "code",
      "source": [
        "df_withoutNAN = df_address.dropna()"
      ],
      "metadata": {
        "id": "ru5TYV8J704X"
      },
      "execution_count": null,
      "outputs": []
    },
    {
      "cell_type": "code",
      "source": [
        "df_withoutNAN"
      ],
      "metadata": {
        "id": "E5Q5Y50X9KBP"
      },
      "execution_count": null,
      "outputs": []
    },
    {
      "cell_type": "code",
      "source": [
        "df_merge = pd.concat([df_withoutNAN,df_NAN]).sort_values(by=['address_id'])\n",
        "df_merge"
      ],
      "metadata": {
        "id": "JvXsL7VI9cjw"
      },
      "execution_count": null,
      "outputs": []
    },
    {
      "cell_type": "code",
      "source": [
        "df_geo = df_merge.drop(df_merge.columns[[4,5]], axis=1)  "
      ],
      "metadata": {
        "id": "UxzflKii-7XS"
      },
      "execution_count": null,
      "outputs": []
    },
    {
      "cell_type": "code",
      "source": [
        "df_geo"
      ],
      "metadata": {
        "id": "eo4kONYO_hlr"
      },
      "execution_count": null,
      "outputs": []
    },
    {
      "cell_type": "code",
      "source": [
        "df_geo.dtypes"
      ],
      "metadata": {
        "id": "DfEnS5tOnnDW"
      },
      "execution_count": null,
      "outputs": []
    },
    {
      "cell_type": "markdown",
      "source": [
        "## Exporting the csv file:"
      ],
      "metadata": {
        "id": "-gVZ_BUtJlco"
      }
    },
    {
      "cell_type": "code",
      "source": [
        "from google.colab import files\n",
        "df_geo.to_csv('table_add_update.csv',float_format=\"%.7f\") \n",
        "files.download('table_add_update.csv')"
      ],
      "metadata": {
        "id": "bAqiSxMsJ4Gg"
      },
      "execution_count": null,
      "outputs": []
    }
  ]
}